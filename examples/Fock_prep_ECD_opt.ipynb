{
 "cells": [
  {
   "cell_type": "code",
   "execution_count": 1,
   "metadata": {},
   "outputs": [
    {
     "name": "stdout",
     "output_type": "stream",
     "text": [
      "\n",
      "Need tf version 2.3.0 or later. Using tensorflow version: 2.4.1\n",
      "\n"
     ]
    },
    {
     "data": {
      "text/plain": [
       "[name: \"/device:CPU:0\"\n",
       " device_type: \"CPU\"\n",
       " memory_limit: 268435456\n",
       " locality {\n",
       " }\n",
       " incarnation: 5292910701282076975]"
      ]
     },
     "execution_count": 1,
     "metadata": {},
     "output_type": "execute_result"
    }
   ],
   "source": [
    "import numpy as np\n",
    "import qutip as qt \n",
    "from ECD_control import BatchOptimizer\n",
    "from ECD_control.ECD_optimization import OptimizationAnalysis, OptimizationSweepsAnalysis\n",
    "from ECD_control.ECD_pulse_construction import *\n",
    "import matplotlib.pyplot as plt\n",
    "from tensorflow.python.client import device_lib\n",
    "device_lib.list_local_devices()"
   ]
  },
  {
   "cell_type": "code",
   "execution_count": 4,
   "metadata": {},
   "outputs": [],
   "source": [
    "#The target oscillator state.\n",
    "N =40\n",
    "Fock = 3\n",
    "psi_t = qt.basis(N,3) #target state"
   ]
  },
  {
   "cell_type": "code",
   "execution_count": 5,
   "metadata": {},
   "outputs": [],
   "source": [
    "#Optimization of ECD Circuit parameters (betas, phis, and thetas)\n",
    "#the optimization options\n",
    "opt_params = {\n",
    "'N_blocks' : 7, #circuit depth\n",
    "'N_multistart' : 200, #Batch size (number of circuit optimizations to run in parallel)\n",
    "'epochs' : 200, #number of epochs before termination\n",
    "'epoch_size' : 10, #number of adam steps per epoch\n",
    "'learning_rate' : 0.01, #adam learning rate\n",
    "'term_fid' : 0.995, #terminal fidelitiy\n",
    "'dfid_stop' : 1e-6, #stop if dfid between two epochs is smaller than this number\n",
    "'beta_scale' : 3.0, #maximum |beta| for random initialization\n",
    "'initial_states' : [qt.tensor(qt.basis(2,0),qt.basis(N,0))], #qubit tensor oscillator, start in |g> |0>\n",
    "'target_states' : [qt.tensor(qt.basis(2,1), psi_t)], #end in |e> |target>.\n",
    "'name' : 'Fock %d' % Fock, #name for printing and saving\n",
    "'filename' : None, #if no filename specified, results will be saved in this folder under 'name.h5'\n",
    "}\n",
    "#note: optimizer includes pi pulse in every ECD step. However, final ECD step is implemented \n",
    "#in experiment as a displacement since the qubit and oscillator should be disentangled at this point.\n",
    "#So, we ask the optimizer to end in |e> |target> instead of |g>|target>."
   ]
  },
  {
   "cell_type": "code",
   "execution_count": 6,
   "metadata": {},
   "outputs": [
    {
     "name": "stdout",
     "output_type": "stream",
     "text": [
      "optimization_type: state transfer\n",
      "N_multistart: 200\n",
      "N_blocks: 7\n",
      "term_fid: 0.995\n",
      "dfid_stop: 1e-06\n",
      "no_CD_end: False\n",
      "learning_rate: 0.01\n",
      "epoch_size: 10\n",
      "epochs: 200\n",
      "beta_scale: 3.0\n",
      "alpha_scale: 1.0\n",
      "theta_scale: 3.141592653589793\n",
      "use_etas: False\n",
      "use_displacements: False\n",
      "use_phase: False\n",
      "name: Fock 3\n",
      "comment: \n",
      "N_cav: 40\n",
      "filename: Fock 3.h5\n",
      "\n",
      "Best circuit parameters found:\n",
      "betas:         [ 2.36904+0.42894j -1.30685-0.80368j -0.0575 +0.23645j -0.68375-1.79568j\n",
      " -0.02634+0.47307j -0.47085+0.86889j -1.29384+0.43802j]\n",
      "alphas:        [0.+0.j]\n",
      "phis (deg):    [   0.       -43.58802 -112.45171  -26.07299  116.07169   48.15837\n",
      "   23.23524]\n",
      "etas (deg):    [89.99999 89.99999 89.99999 89.99999 89.99999 89.99999 89.99999]\n",
      "thetas (deg):  [-108.52645  167.39676   -4.04028 -154.55098  -90.0897    51.29727\n",
      "  -39.5034 ]\n",
      "Max Fidelity:  0.217707\n",
      "\n",
      "\n"
     ]
    }
   ],
   "source": [
    "#create optimization object. \n",
    "#initial params will be randomized upon creation\n",
    "opt = BatchOptimizer(**opt_params)\n",
    "\n",
    "#print optimization info. \n",
    "opt.print_info()"
   ]
  },
  {
   "cell_type": "code",
   "execution_count": 7,
   "metadata": {},
   "outputs": [
    {
     "name": "stdout",
     "output_type": "stream",
     "text": [
      "Start time: 2022-02-14 13:48:12\n",
      " Epoch: 27 / 200 Max Fid: 0.995486 Avg Fid: 0.849608 Max dFid: 0.055368 Avg dFid: 0.003300 Elapsed time: 0:03:03.797095 Remaing time: 0:19:37.662865\n",
      "\n",
      " Optimization stopped. Term fidelity reached.\n",
      "\n",
      "optimization_type: state transfer\n",
      "N_multistart: 200\n",
      "N_blocks: 7\n",
      "term_fid: 0.995\n",
      "dfid_stop: 1e-06\n",
      "no_CD_end: False\n",
      "learning_rate: 0.01\n",
      "epoch_size: 10\n",
      "epochs: 200\n",
      "beta_scale: 3.0\n",
      "alpha_scale: 1.0\n",
      "theta_scale: 3.141592653589793\n",
      "use_etas: False\n",
      "use_displacements: False\n",
      "use_phase: False\n",
      "name: Fock 3\n",
      "comment: \n",
      "N_cav: 40\n",
      "filename: Fock 3.h5\n",
      "\n",
      "Best circuit parameters found:\n",
      "betas:         [-1.78255+1.42159j  1.2697 +0.579j    0.25655+0.59477j  0.87519+0.83921j\n",
      "  0.54619+0.07866j -0.1622 +0.27929j -0.0011 -0.00299j]\n",
      "alphas:        [0.+0.j]\n",
      "phis (deg):    [   0.        93.32031  -96.37452  -84.33214 -100.38724  106.82166\n",
      "  165.07126]\n",
      "etas (deg):    [89.99999 89.99999 89.99999 89.99999 89.99999 89.99999 89.99999]\n",
      "thetas (deg):  [ 89.86964  88.71384  71.41808  86.72052 131.68414 -76.45631 -85.95894]\n",
      "Max Fidelity:  0.995564\n",
      "\n",
      "\n",
      "all data saved as: Fock 3.h5\n",
      "termination reason: term_fid\n",
      "optimization timestamp (start time): 2022-02-14 13:48:12\n",
      "timestamp (end time): 2022-02-14 13:51:16\n",
      "elapsed time: 0:03:03.812098\n",
      "Time per epoch (epoch size = 10): 0:00:06.807855\n",
      "Time per Adam step (N_multistart = 200, N_cav = 40): 0:00:00.034039\n",
      "\n",
      "============================================================\n",
      "\n"
     ]
    },
    {
     "data": {
      "text/plain": [
       "'2022-02-14 13:48:12'"
      ]
     },
     "execution_count": 7,
     "metadata": {},
     "output_type": "execute_result"
    }
   ],
   "source": [
    "#run optimizer.\n",
    "#note the optimizer can be stopped at any time by interrupting the python consle,\n",
    "#and the optimization results will still be saved and part of the opt object.\n",
    "#This allows you to stop the optimization whenever you want and still use the result.\n",
    "opt.optimize()"
   ]
  },
  {
   "cell_type": "code",
   "execution_count": null,
   "metadata": {},
   "outputs": [],
   "source": [
    "#can print info, including the best circuit found.\n",
    "opt.print_info() "
   ]
  },
  {
   "cell_type": "code",
   "execution_count": null,
   "metadata": {},
   "outputs": [],
   "source": [
    "#can also get the best circuit parameters directly, could save this to a .npz file.\n",
    "best_circuit =  opt.best_circuit()\n",
    "betas = best_circuit['betas']\n",
    "phis = best_circuit['phis']\n",
    "thetas = best_circuit['thetas']\n",
    "print(best_circuit)"
   ]
  },
  {
   "cell_type": "code",
   "execution_count": null,
   "metadata": {},
   "outputs": [],
   "source": [
    "#Analysis of the results. Can load the .h5 file.\n",
    "#all data is stored as a timestamp in a .h5 file\n",
    "#You can also specify which timestamp you are analyzing. Be defult, it will use the most recent optimization in the file.\n",
    "#I  recommend using \"HDFview\" software to understand data structure\n",
    "#filename = opt.filename\n",
    "filename = 'Fock %d.h5' % Fock\n",
    "analysis = OptimizationAnalysis(filename)\n",
    "analysis.print_info() #we can print info of best circuit"
   ]
  },
  {
   "cell_type": "code",
   "execution_count": null,
   "metadata": {},
   "outputs": [],
   "source": [
    "#We can plot the fidelities of the different parallel optimizations. \n",
    "# x axis is epoch\n",
    "analysis.plot_fidelities()"
   ]
  },
  {
   "cell_type": "code",
   "execution_count": null,
   "metadata": {},
   "outputs": [],
   "source": [
    "#Can also get the \"best circuit\" from a loaded analysis object\n",
    "best_circuit = analysis.best_circuit()\n",
    "betas = best_circuit['betas']\n",
    "phis = best_circuit['phis']\n",
    "thetas = best_circuit['thetas']\n",
    "print(best_circuit)"
   ]
  },
  {
   "cell_type": "code",
   "execution_count": null,
   "metadata": {},
   "outputs": [],
   "source": [
    "#Now, we can take the parameters found (betas, phis, and thetas)\n",
    "#and use them to produce a ECD oscillator and qubit pulse.\n",
    "#This requies us to specify the calibrated experimental parameters.\n",
    "\n",
    "#The following parameters for the oscillator will be used to build the oscillator pulse.\n",
    "#Here, assume that a gaussian displacement pulse to alpha=1.0 has been calibrated.\n",
    "storage_params = {\n",
    "        \"chi_kHz\": 33, #dispersive shift in kHz\n",
    "        \"chi_prime_Hz\": 1, #second order dispersive shift in Hz\n",
    "        \"Ks_Hz\": 0, #Kerr correction not implemented here.\n",
    "        \"unit_amp\": 0.01, #DAC amplitude (at maximum of pulse) for gaussian displacement to alpha=1.\n",
    "        \"sigma\": 11, #oscillator displacement pulse sigma\n",
    "        \"chop\": 4, #oscillator displacement pulse chop (number of sigmas to include in gaussian pulse)\n",
    "    }\n",
    "\n",
    "#In a similar way, the qubit pulse parameters will be specified by a calibrated pi pulse.\n",
    "#unit_amp is the DAC amplitude (at maximum of pulse) for a calibrated gaussian pi pulse, with sigma and chop specified\n",
    "qubit_params = {'unit_amp': 0.5, 'sigma': 6, 'chop': 4} #parameters for qubit pi pulse.\n",
    "\n",
    "\n",
    "#creating the \"Fake storage\" and \"Fake qubit\" objects which are used\n",
    "#for pulse cration\n",
    "storage = FakeStorage(**storage_params)\n",
    "qubit = FakeQubit(**qubit_params)\n",
    "\n",
    "#The maximum displacement used during the ECD gates.\n",
    "alpha_CD = 30\n",
    "#Small delay to insert between oscillator and qubit pulses to ensure timing is okay.\n",
    "buffer_time = 4"
   ]
  },
  {
   "cell_type": "code",
   "execution_count": null,
   "metadata": {},
   "outputs": [],
   "source": [
    "#From these calibrations, the storage and qubit objects calculate the\n",
    "#conversion between DAC amplitude, and drive amplitude in MHz.\n",
    "#so, [Omega(t) in MHz] = [Omega(t) in DAC units]*Omega_m_MHz \n",
    "#and [Omega(t) in MHz] = [Omega(t) in DAC units]*Omega_m_MHz.\n",
    "#These parameters also represent the maximum drive amplitude,\n",
    "#since the DAC max amplitude is 1 (assuming amplifiers don't saturate.)\n",
    "print('Maximum oscillator drive amplitude: |epsilon|/2*pi < %.3f MHz' % storage.epsilon_m_MHz)\n",
    "print('Maximum qubit drive amplitude: |Omega|/2*pi < %.3f MHz' % qubit.Omega_m_MHz)"
   ]
  },
  {
   "cell_type": "code",
   "execution_count": null,
   "metadata": {},
   "outputs": [],
   "source": [
    "#generating the oscillator and qubit pulses (epsilon and Omega)\n",
    "#set 'chi_prime_correction = True' to correct for linear part of chi'\n",
    "#final_disp = True will implement final ECD gate as a gaussian displacement instead of full ECD gate.\n",
    "#This option is useful if the qubit and oscillator are disentangled after the gate.\n",
    "pulse_dict = conditional_displacement_circuit(betas, phis, thetas, storage, qubit,\n",
    "                     alpha_CD,buffer_time=buffer_time, kerr_correction = False, chi_prime_correction=True, final_disp=True, pad=True)\n",
    "\n",
    "#The dictionary will contain the pulses, in DAC units.\n",
    "#Also, the displacements used for each ECD gate (the \"alphas\")\n",
    "cavity_dac_pulse, qubit_dac_pulse,alphas = pulse_dict['cavity_dac_pulse'], pulse_dict['qubit_dac_pulse'], pulse_dict['alphas']\n",
    "print('alphas:')\n",
    "print(alphas)"
   ]
  },
  {
   "cell_type": "code",
   "execution_count": null,
   "metadata": {},
   "outputs": [],
   "source": [
    "#plotting the pulse, in units of MHz. It could also be fed into a time-domain simulation.\n",
    "fig, axs = plt.subplots(2,1)\n",
    "axs[0].plot(np.real(storage.epsilon_m_MHz*cavity_dac_pulse))\n",
    "axs[0].plot(np.imag(storage.epsilon_m_MHz*cavity_dac_pulse))\n",
    "axs[1].plot(np.real(qubit.Omega_m_MHz*qubit_dac_pulse))\n",
    "axs[1].plot(np.imag(qubit.Omega_m_MHz*qubit_dac_pulse))\n",
    "plt.xlabel('ns')"
   ]
  },
  {
   "cell_type": "code",
   "execution_count": null,
   "metadata": {},
   "outputs": [],
   "source": []
  }
 ],
 "metadata": {
  "interpreter": {
   "hash": "3e13ed3432761fc59a4a9b457fbf3f96074750791754ae943b7a2ec348e7309f"
  },
  "kernelspec": {
   "display_name": "Python 3 (ipykernel)",
   "language": "python",
   "name": "python3"
  },
  "language_info": {
   "codemirror_mode": {
    "name": "ipython",
    "version": 3
   },
   "file_extension": ".py",
   "mimetype": "text/x-python",
   "name": "python",
   "nbconvert_exporter": "python",
   "pygments_lexer": "ipython3",
   "version": "3.8.3"
  }
 },
 "nbformat": 4,
 "nbformat_minor": 4
}
